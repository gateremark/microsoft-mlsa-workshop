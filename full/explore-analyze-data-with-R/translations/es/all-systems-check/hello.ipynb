{
 "cells": [
  {
   "cell_type": "code",
   "execution_count": null,
   "metadata": {
    "vscode": {
     "languageId": "r"
    }
   },
   "outputs": [],
   "source": [
    "# Función que devuelve un mensaje impresionante\n",
    "say_hello <- function(name) {\n",
    "  message(paste0(\"Hola, \", name, \":) En este módulo, aprenderemos a explorar\n",
    "  y analizar datos con R.\"))\n",
    "}\n",
    "\n",
    "say_hello(\"mundo remoto\")"
   ]
  }
 ],
 "metadata": {
  "kernelspec": {
   "display_name": "R",
   "language": "R",
   "name": "ir"
  },
  "language_info": {
   "codemirror_mode": "r",
   "file_extension": ".r",
   "mimetype": "text/x-r-source",
   "name": "R",
   "pygments_lexer": "r",
   "version": "4.1.2"
  },
  "orig_nbformat": 4
 },
 "nbformat": 4,
 "nbformat_minor": 2
}
