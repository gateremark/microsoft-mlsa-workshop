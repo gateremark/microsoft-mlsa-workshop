{
    "cells": [
        {
            "cell_type": "markdown",
            "metadata": {},
            "source": [
                "## **Desafío de exploración de datos de vuelos**\n",
                "\n",
                "Una parte importante del rol de un científico de datos es explorar, analizar y visualizar datos. En este desafío, explorará un conjunto de datos del mundo real que contiene datos de vuelos del Departamento de Transporte de EE. UU.\n",
                "\n",
                "Comencemos cargando los paquetes requeridos.\n"
            ]
        },
        {
            "cell_type": "code",
            "execution_count": null,
            "metadata": {
                "vscode": {
                    "languageId": "r"
                }
            },
            "outputs": [],
            "source": [
                "# Cargue los paquetes que necesitará en esta aventura\n",
                "suppressPackageStartupMessages({\n",
                "  library(tidyverse)\n",
                "  library(summarytools)\n",
                "  library(glue)\n",
                "  library(patchwork)\n",
                "  })\n"
            ]
        },
        {
            "cell_type": "markdown",
            "metadata": {},
            "source": [
                "Ahora, podemos importar los datos a R y comenzar a hacer ciencia de datos con ellos\n"
            ]
        },
        {
            "cell_type": "code",
            "execution_count": null,
            "metadata": {
                "vscode": {
                    "languageId": "r"
                }
            },
            "outputs": [],
            "source": [
                "# Cargar y ver los datos\n",
                "df_flights <- read_csv(\"https://raw.githubusercontent.com/MicrosoftDocs/ml-basics/master/challenges/data/flights.csv\", show_col_types = FALSE)\n",
                "\n",
                "df_flights %>%\n",
                "  slice_head(n = 7)\n"
            ]
        },
        {
            "cell_type": "markdown",
            "metadata": {},
            "source": [
                "El conjunto de datos contiene los registros de vuelos nacionales de EE. UU. en 2013 y consta de los siguientes campos:\n",
                "\n",
                "-   **Year**: Año del vuelo (todos los registros son de 2013)\n",
                "\n",
                "-   **Month**: Mes del vuelo\n",
                "\n",
                "-   **DayofMonth**: Día del mes en que salió el vuelo\n",
                "\n",
                "-   **DayOfWeek**: Día de la semana en que salió el vuelo - del 1 (lunes) al 7 (domingo)\n",
                "\n",
                "-   **Carrier**: Abreviatura de dos letras de la aerolínea.\n",
                "\n",
                "-   **OriginAirportID**: Identificador numérico único para el aeropuerto de origen\n",
                "\n",
                "-   **OriginAirportName**: Nombre completo del aeropuerto de origen.\n",
                "\n",
                "-   **OriginCity**: Ciudad del aeropuerto de origen\n",
                "\n",
                "-   **OriginState**: Estado del aeropuerto de origen\n",
                "\n",
                "-   **DestAirportID**: Identificador numérico único para el aeropuerto de destino\n",
                "\n",
                "-   **DestAirportName**: Nombre completo del aeropuerto de destino\n",
                "\n",
                "-   **DestCity**: Ciudad del aeropuerto de destino\n",
                "\n",
                "-   **DestState**: Estado del aeropuerto de destino\n",
                "\n",
                "-   **CRSDepTime**: Hora programada de partida\n",
                "\n",
                "-   **DepDelay**: Minutos de retraso de partida (un vuelo que partió antes de lo previsto tiene un valor negativo)\n",
                "\n",
                "-   **DelDelay15**: Valor binario que indica una partida atrasada por más de 15 minutos (y por lo tanto se consideró \"tarde\")\n",
                "\n",
                "-   **CRSArrTime**: Hora programada de arribo\n",
                "\n",
                "-   **ArrDelay**: Minutos de retraso de arribo (un vuelo que llegó antes de lo previsto tiene un valor negativo)\n",
                "\n",
                "-   **ArrDelay15**: Valor binario que indica un arribo atrasado por más de 15 minutos (y por lo tanto se consideró \"tarde\")\n",
                "\n",
                "-   **Cancelled**: Valor binario que indica un vuelo cancelado\n",
                "\n",
                "Su reto es explorar los datos de vuelo para analizar los posibles factores que inciden en los retrasos en la salida o llegada de un vuelo.\n",
                "\n",
                "1.  Comience por limpiar los datos.\n",
                "\n",
                "    -   Identifique cualquier dato nulo o faltante y reemplace por valores apropiados.\n",
                "\n",
                "    -   Identifique y elimine cualquier valor atípico en las columnas **DepDelay** y **ArrDelay**.\n",
                "\n",
                "2.  Explore los datos limpios.\n",
                "\n",
                "    - Observe las estadísticas de resumen para los campos numéricos en el conjunto de datos.\n",
                "\n",
                "    - Determine la distribución de las columnas **DepDelay** y **ArrDelay**.\n",
                "\n",
                "    - Use estadísticas, funciones agregadas y visualizaciones para responder las siguientes preguntas:\n",
                "\n",
                "         - *¿Cuáles son los retrasos promedio de partida y arribo?*\n",
                "\n",
                "         - *¿Cómo se comparan los transportistas en términos de rendimiento de retrasos en el arribo?*\n",
                "\n",
                "         - *¿Hay una diferencia notable en los retrasos de arribo para los diferentes días de la semana?*\n",
                "\n",
                "         - *¿Qué aeropuerto de origen tiene el promedio de retraso de partida más alto?*\n",
                "\n",
                "         - *¿Las salidas **atrasadas** tienden a provocar retrasos de arribo más prolongados que las salidas puntuales?*\n",
                "\n",
                "         - *¿Qué ruta (del aeropuerto de origen al aeropuerto de destino) tiene más llegadas **atrasadas**?*\n",
                "\n",
                "         - *¿Qué ruta tiene el promedio de retraso de arribo más alto?*\n",
                "\n",
                "\n",
                "A veces, cuando tenemos muchas columnas en nuestros datos, puede ser difícil controlar los datos a primera vista usando `slice_head`\n",
                "\n",
                "`glimpse` produce una versión transpuesta donde las columnas corren hacia abajo de la página y los datos se cruzan. Esto hace posible ver cada columna en un marco de datos. Además, también muestra la dimensión del tibble y los tipos de datos subyacentes de las columnas.\n"
            ]
        },
        {
            "cell_type": "code",
            "execution_count": null,
            "metadata": {
                "vscode": {
                    "languageId": "r"
                }
            },
            "outputs": [],
            "source": [
                "# Eche un vistazo a sus datos\n",
                "df_flights %>%\n",
                "  glimpse()\n"
            ]
        },
        {
            "cell_type": "markdown",
            "metadata": {},
            "source": [
                "## Limpiar valores faltantes\n",
                "\n",
                "Una vez que haya importado sus datos, siempre es una buena idea limpiarlos. Lamentablemente, esto a menudo se subestima de forma frecuente, pero es un paso fundamental necesario para las operaciones posteriores en el análisis de datos.\n",
                "\n",
                "Busquemos cuántos valores nulos hay para cada columna.\n"
            ]
        },
        {
            "cell_type": "code",
            "execution_count": null,
            "metadata": {
                "vscode": {
                    "languageId": "r"
                }
            },
            "outputs": [],
            "source": [
                "# Encuentre cuántos valores nulos hay para cada columna.\n",
                "colSums(is.na(df_flights))\n"
            ]
        },
        {
            "cell_type": "markdown",
            "metadata": {},
            "source": [
                "Hmm, parece que hay algunos indicadores de \"salida tardía\" NA (valores faltantes) (columna DepDel15). Las salidas se consideran atrasadas si el retraso es de 15 minutos o más, así que veamos los retrasos para las que tienen un indicador de retraso NA:\n",
                "\n",
                "**Pregunta 1.**\n",
                "\n",
                "Comenzando con `df_flights`, **seleccione** las columnas `DepDelay` y `DepDel15` y luego **filtre** para obtener filas donde el valor de `DepDel15` sea `NA`. Asigne los resultados en una variable llamada `flights_depdel`.\n",
                "\n",
                "Rellene el marcador `....` con el código correcto."
            ]
        },
        {
            "cell_type": "code",
            "execution_count": null,
            "metadata": {
                "vscode": {
                    "languageId": "r"
                }
            },
            "outputs": [],
            "source": [
                "# Seleccione las columnas DepDelay y DepDel15\n",
                "# y luego filtre el tibble para obtener las\n",
                "# observaciones donde falta un valor de DepDel15\n",
                "\n",
                "flights_depdel <- df_flights %>%\n",
                "  select(...., ....) %>%\n",
                "  filter(is.na(....))\n"
            ]
        },
        {
            "cell_type": "markdown",
            "metadata": {},
            "source": [
                "Verifique su respuesta\n"
            ]
        },
        {
            "cell_type": "code",
            "execution_count": null,
            "metadata": {
                "vscode": {
                    "languageId": "r"
                }
            },
            "outputs": [],
            "source": [
                ". <- ottr::check(\"tests/Question 1.R\")\n"
            ]
        },
        {
            "cell_type": "markdown",
            "metadata": {},
            "source": [
                "¡Buen trabajo! Ahora, echemos un vistazo (`glimpse`) a `flights_depdel`.\n",
                "\n"
            ]
        },
        {
            "cell_type": "code",
            "execution_count": null,
            "metadata": {
                "vscode": {
                    "languageId": "r"
                }
            },
            "outputs": [],
            "source": [
                "flights_depdel %>%\n",
                "  glimpse()\n"
            ]
        },
        {
            "cell_type": "markdown",
            "metadata": {},
            "source": [
                "Desde las primeras observaciones, pareciera que los registros en `DepDel15` (que es un valor binario que indica una salida atrasada por más de 15 minutos) tienen todos un atraso correspondiente de 0 en `DepDelay` (minutos de retraso de la partida). Comprobemos mirando las estadísticas resumidas de los registros `DepDelay`:\n"
            ]
        },
        {
            "cell_type": "code",
            "execution_count": null,
            "metadata": {
                "vscode": {
                    "languageId": "r"
                }
            },
            "outputs": [],
            "source": [
                "# Obtenga estadísticas de resumen usando la función summary\n",
                "df_flights %>%\n",
                "  filter(rowSums(is.na(.)) > 0) %>%\n",
                "  select(DepDelay) %>%\n",
                "  summary()\n"
            ]
        },
        {
            "cell_type": "markdown",
            "metadata": {},
            "source": [
                "El mínimo, el máximo y la media son todos 0; así que parece que ninguno de estos fueron en realidad salidas *atrasadas*.\n",
                "\n",
                "**Pregunta 2.**\n",
                "\n",
                "Comenzando con `df_flights`, reemplace los valores que faltan en la columna **DepDel15** con un `0`. Asigne esto a un nombre de variable `df_flights`.\n",
                "\n",
                "Rellene el marcador `....` con el código correcto."
            ]
        },
        {
            "cell_type": "code",
            "execution_count": null,
            "metadata": {
                "vscode": {
                    "languageId": "r"
                }
            },
            "outputs": [],
            "source": [
                "# Reemplace los valores faltantes en DepDel15 por 0\n",
                "df_flights <- df_flights %>%\n",
                "  mutate(DepDel15 = ....)\n"
            ]
        },
        {
            "cell_type": "markdown",
            "metadata": {},
            "source": [
                "Verifique su respuesta:\n"
            ]
        },
        {
            "cell_type": "code",
            "execution_count": null,
            "metadata": {
                "vscode": {
                    "languageId": "r"
                }
            },
            "outputs": [],
            "source": [
                ". <- ottr::check(\"tests/Question 2.R\")\n"
            ]
        },
        {
            "cell_type": "markdown",
            "metadata": {},
            "source": [
                "¡Buen trabajo! Ahora no faltan valores. Llevemos esto un poco más lejos.\n",
                "\n",
                "### **Limpiar valores atípicos**\n",
                "\n",
                "Un valor atípico es un punto de datos que difiere significativamente de otras observaciones. Vamos a crear una función que muestre la distribución y las estadísticas de resumen para una columna determinada.\n"
            ]
        },
        {
            "cell_type": "code",
            "execution_count": null,
            "metadata": {
                "vscode": {
                    "languageId": "r"
                }
            },
            "outputs": [],
            "source": [
                "# Función para mostrar estadísticas de resumen y distribución para una columna\n",
                "show_distribution <- function(var_data, binwidth) {\n",
                "\n",
                "  # Obtenga estadísticas resumidas extrayendo primero los valores de la columna\n",
                "  min_val <- min(pull(var_data))\n",
                "  max_val <- max(pull(var_data))\n",
                "  mean_val <- mean(pull(var_data))\n",
                "  med_val <- median(pull(var_data))\n",
                "  mod_val <- statip::mfv(pull(var_data))\n",
                "\n",
                "  # Imprima las estadísticas\n",
                "  stats <- glue::glue(\n",
                "  \"Minimum: {format(round(min_val, 2), nsmall = 2)}\n",
                "   Mean: {format(round(mean_val, 2), nsmall = 2)}\n",
                "   Median: {format(round(med_val, 2), nsmall = 2)}\n",
                "   Mode: {format(round(mod_val, 2), nsmall = 2)}\n",
                "   Maximum: {format(round(max_val, 2), nsmall = 2)}\"\n",
                "  )\n",
                "\n",
                "  theme_set(theme_light())\n",
                "  # Grafique el histograma\n",
                "  hist_gram <- ggplot(var_data) +\n",
                "  geom_histogram(aes(x = pull(var_data)), binwidth = binwidth,\n",
                "                 fill = \"midnightblue\", alpha = 0.7, boundary = 0.4) +\n",
                "\n",
                "  # Agregue líneas para las estadísticas\n",
                "  geom_vline(xintercept = min_val, color = \"gray33\",\n",
                " linetype = \"dashed\", size = 1.3) +\n",
                "  geom_vline(xintercept = mean_val, color = \"cyan\",\n",
                " linetype = \"dashed\", size = 1.3) +\n",
                "  geom_vline(xintercept = med_val, color = \"red\",\n",
                " linetype = \"dashed\", size = 1.3) +\n",
                "  geom_vline(xintercept = mod_val, color = \"yellow\",\n",
                " linetype = \"dashed\", size = 1.3) +\n",
                "  geom_vline(xintercept = max_val, color = \"gray33\",\n",
                " linetype = \"dashed\", size = 1.3) +\n",
                "\n",
                "  # Añada títulos y etiquetas\n",
                "  ggtitle(\"Data Distribution\") +\n",
                "  xlab(\"\") +\n",
                "  ylab(\"Frequency\") +\n",
                "  theme(plot.title = element_text(hjust = 0.5))\n",
                "\n",
                "  # Trace el diagrama de caja\n",
                "  bx_plt <- ggplot(data = var_data) +\n",
                "  geom_boxplot(mapping = aes(x = pull(var_data), y = 1),\n",
                "               fill = \"#E69F00\", color = \"gray23\", alpha = 0.7) +\n",
                "\n",
                "    # Añada títulos y etiquetas\n",
                "  xlab(\"Value\") +\n",
                "  ylab(\"\") +\n",
                "  theme(plot.title = element_text(hjust = 0.5))\n",
                "\n",
                "\n",
                "  # Para devolver múltiples salidas, use una lista (`list`)\n",
                "  return(\n",
                "\n",
                "    list(stats,\n",
                "         hist_gram / bx_plt)) # Fin de las salidas devueltas \n",
                "\n",
                "} # Fin de la función\n"
            ]
        },
        {
            "cell_type": "markdown",
            "metadata": {},
            "source": [
                "**Pregunta 3.** Comenzando con los datos `df_flights`, mantenga solo la columna **`DepDelay`**. Asigne esto a una variable llamada `df_col`.\n",
                "\n",
                "Una vez resuelto, llame a la función `show_distribution` con los argumentos y los valores correspondientes de la siguiente manera: `var_data = df_col` y `binwidth = 100`\n",
                "\n",
                "De la salida de la función, ¿cuál es la distribución de **DepDelay** (minutos de atraso de partida)?\n",
                "\n",
                "Rellene el marcador `....` con el código correcto."
            ]
        },
        {
            "cell_type": "code",
            "execution_count": null,
            "metadata": {
                "vscode": {
                    "languageId": "r"
                }
            },
            "outputs": [],
            "source": [
                "# Seleccione la columna DepDelay \n",
                "df_col <- df_flights %>%\n",
                "  ....\n",
                "\n",
                "# Llame a la función show_distribution\n",
                "show_distribution(var_data = df_col, binwidth = 100)\n"
            ]
        },
        {
            "cell_type": "markdown",
            "metadata": {},
            "source": [
                "Verifique su respuesta:\n"
            ]
        },
        {
            "cell_type": "code",
            "execution_count": null,
            "metadata": {
                "vscode": {
                    "languageId": "r"
                }
            },
            "outputs": [],
            "source": [
                ". <- ottr::check(\"tests/Question 3.R\")\n"
            ]
        },
        {
            "cell_type": "markdown",
            "metadata": {},
            "source": [
                "Ahora, investiguemos la distribución de **ArrDelay** (minutos de atraso de arribo)\n",
                "\n",
                "**Pregunta 4.** Comenzando con los datos `df_flights`, mantenga solo la columna **`ArrDelay`**. Asigne esto a un nombre de variable `df_col`.\n",
                "\n",
                "Una vez que haya resuelto esto, llame a la función `show_distribution` con los argumentos y los valores correspondientes de la siguiente manera: `var_data = df_col` y `binwidth = 100` (valor del ancho de cada contenedor a lo largo del eje X)\n",
                "\n",
                "De la salida de la función, ¿cuál es la distribución de **ArrDelay**?\n",
                "\n",
                "Rellene el marcador `....` con el código correcto."
            ]
        },
        {
            "cell_type": "code",
            "execution_count": null,
            "metadata": {
                "vscode": {
                    "languageId": "r"
                }
            },
            "outputs": [],
            "source": [
                "# Seleccione la columna DepDelay \n",
                "df_col <- df_flights %>%\n",
                "  ....\n",
                "\n",
                "# Llame a la función show_distribution\n",
                "show_distribution(var_data = df_col, binwidth = 100)\n"
            ]
        },
        {
            "cell_type": "markdown",
            "metadata": {},
            "source": [
                "Verifique su respuesta:\n"
            ]
        },
        {
            "cell_type": "code",
            "execution_count": null,
            "metadata": {
                "vscode": {
                    "languageId": "r"
                }
            },
            "outputs": [],
            "source": [
                ". <- ottr::check(\"tests/Question 4.R\")\n"
            ]
        },
        {
            "cell_type": "markdown",
            "metadata": {},
            "source": [
                "De ambas salidas, hay valores atípicos en los extremos inferior y superior de ambas variables. Recortemos los datos para incluir solo las filas donde los valores de estos campos están dentro del percentil 1 y 90. Comenzamos con el registro **ArrDelay**.\n"
            ]
        },
        {
            "cell_type": "code",
            "execution_count": null,
            "metadata": {
                "vscode": {
                    "languageId": "r"
                }
            },
            "outputs": [],
            "source": [
                "# Recorte los valores atípicos para ArrDelay en función de los percentiles del 1 % y el 90 %\n",
                "# Produzca cuantiles correspondientes al 1% y 90%\n",
                "arrdelay_01pcntile <- df_flights %>%\n",
                "  pull(ArrDelay) %>%\n",
                "  quantile(probs = 1 / 100, names = FALSE)\n",
                "\n",
                "arrdelay_90pcntile <- df_flights %>%\n",
                "  pull(ArrDelay) %>%\n",
                "  quantile(probs = 90 / 100, names = FALSE)\n",
                "\n",
                "# Imprima los cuantiles 1 y 90 respectivamente\n",
                "cat(arrdelay_01pcntile, \"\\n\", arrdelay_90pcntile)\n"
            ]
        },
        {
            "cell_type": "markdown",
            "metadata": {},
            "source": [
                "Ahora que tenemos los cuantiles correspondientes al 1 % y al 90 %, filtremos los datos de `df_flights` para incluir solo filas cuyo retraso de llegada se encuentre dentro de este rango.\n",
                "\n",
                "**Pregunta 5.** Comenzando con los datos de `df_flights`, filtre para incluir solo filas cuyo **ArrDelay** se encuentre dentro de los cuantiles 1 y 90. Asigne esto a una variable llamada `df_flights`.\n",
                "\n",
                "Rellene el marcador `....` con el código correcto."
            ]
        },
        {
            "cell_type": "code",
            "execution_count": null,
            "metadata": {
                "vscode": {
                    "languageId": "r"
                }
            },
            "outputs": [],
            "source": [
                "# Filtre los datos para remover los valores atípicos\n",
                "df_flights <- df_flights %>%\n",
                "  filter(ArrDelay > ...., ....)\n"
            ]
        },
        {
            "cell_type": "markdown",
            "metadata": {},
            "source": [
                "Verifique su respuesta:\n"
            ]
        },
        {
            "cell_type": "code",
            "execution_count": null,
            "metadata": {
                "vscode": {
                    "languageId": "r"
                }
            },
            "outputs": [],
            "source": [
                ". <- ottr::check(\"tests/Question 5.R\")\n"
            ]
        },
        {
            "cell_type": "markdown",
            "metadata": {},
            "source": [
                "Ahora, hagamos lo mismo para la columna `DepDelay`.\n",
                "\n",
                "**Pregunta 6.** A partir de los datos de `df_flights`, obtenga los cuantiles correspondientes al 1% y al 90%. Asigne estos valores a las variables `depdelay_01pcntile` y `depdelay_90pcntile` respectivamente.\n",
                "\n",
                "Rellene el marcador `....` con el código correcto."
            ]
        },
        {
            "cell_type": "code",
            "execution_count": null,
            "metadata": {
                "vscode": {
                    "languageId": "r"
                }
            },
            "outputs": [],
            "source": [
                "# Recorte los valores atípicos para DepDelay en función de los percentiles 1% y 90%\n",
                "# Produzca cuantiles correspondientes al 1% y 90%\n",
                "depdelay_01pcntile <- df_flights %>%\n",
                "  .... %>%\n",
                "  ....\n",
                "\n",
                "depdelay_90pcntile <- df_flights %>%\n",
                "  .... %>%\n",
                "  ....\n",
                "\n",
                "# Imprima los cuantiles 1 y 90 respectivamente\n",
                "cat(depdelay_01pcntile, \"\\n\", depdelay_90pcntile)\n"
            ]
        },
        {
            "cell_type": "markdown",
            "metadata": {},
            "source": [
                "Verifique su respuesta:\n"
            ]
        },
        {
            "cell_type": "code",
            "execution_count": null,
            "metadata": {
                "vscode": {
                    "languageId": "r"
                }
            },
            "outputs": [],
            "source": [
                ". <- ottr::check(\"tests/Question 6.R\")\n"
            ]
        },
        {
            "cell_type": "markdown",
            "metadata": {},
            "source": [
                "¡¡Buen trabajo!!\n",
                "\n",
                "Ahora que tenemos los cuantiles correspondientes al 1 % y al 90 %, filtremos los datos de `df_flights` para incluir solo las filas cuyo retraso en la salida se encuentre dentro de este rango.\n",
                "\n",
                "**Pregunta 7.** Comenzando con los datos de `df_flights`, filtre para incluir solo filas cuyo **DepDelay** se encuentre dentro de los cuantiles 1 y 90. Asigne esto a una variable llamada `df_flights`.\n",
                "\n",
                "Rellene el marcador `....` con el código correcto."
            ]
        },
        {
            "cell_type": "code",
            "execution_count": null,
            "metadata": {
                "vscode": {
                    "languageId": "r"
                }
            },
            "outputs": [],
            "source": [
                "# Filtre los datos para remover los valores atípicos\n",
                "df_flights <- df_flights %>%\n",
                "  ....\n"
            ]
        },
        {
            "cell_type": "markdown",
            "metadata": {},
            "source": [
                "Verifique su respuesta:\n"
            ]
        },
        {
            "cell_type": "code",
            "execution_count": null,
            "metadata": {
                "vscode": {
                    "languageId": "r"
                }
            },
            "outputs": [],
            "source": [
                ". <- ottr::check(\"tests/Question 7.R\")\n"
            ]
        },
        {
            "cell_type": "markdown",
            "metadata": {},
            "source": [
                "¡¡Eres genial!!\n",
                "\n",
                "Ahora, podemos verificar la distribución de nuestras dos variables con los valores atípicos eliminados."
            ]
        },
        {
            "cell_type": "code",
            "execution_count": null,
            "metadata": {
                "vscode": {
                    "languageId": "r"
                }
            },
            "outputs": [],
            "source": [
                "# Distribución de DepDelay\n",
                "show_distribution(var_data = select(df_flights, DepDelay), binwidth = 2)\n"
            ]
        },
        {
            "cell_type": "code",
            "execution_count": null,
            "metadata": {
                "vscode": {
                    "languageId": "r"
                }
            },
            "outputs": [],
            "source": [
                "# Distribución de ArrDelay\n",
                "show_distribution(var_data = select(df_flights, ArrDelay), binwidth = 2)\n"
            ]
        },
        {
            "cell_type": "markdown",
            "metadata": {},
            "source": [
                "¡Mucho mejor!\n",
                "\n",
                "Ahora que todos los datos están limpios, podemos comenzar a hacer un análisis exploratorio.\n",
                "\n",
                "## **Explore los datos**\n",
                "\n",
                "Comencemos con una vista general de las estadísticas de resumen para las columnas numéricas.\n"
            ]
        },
        {
            "cell_type": "code",
            "execution_count": null,
            "metadata": {
                "vscode": {
                    "languageId": "r"
                }
            },
            "outputs": [],
            "source": [
                "# Obtenga estadísticas de resumen comunes utilizando el paquete summarytools\n",
                "df_flights %>%\n",
                "  descr(stats = \"common\")\n"
            ]
        },
        {
            "cell_type": "markdown",
            "metadata": {},
            "source": [
                "### **¿Cuáles son los atrasos promedios de partida y arribo?**\n",
                "\n",
                "**Pregunta 8.** Comenzando con los datos `df_flights`, use `across()` dentro de `summarize()` para encontrar la media entre las columnas `DepDelay` y `ArrDelay`. Asigne esto a una variable llamada `df_delays`. ¿Cuáles son los atrasos promedios?\n",
                "\n",
                "Rellene el marcador `....` con el código correcto."
            ]
        },
        {
            "cell_type": "code",
            "execution_count": null,
            "metadata": {
                "vscode": {
                    "languageId": "r"
                }
            },
            "outputs": [],
            "source": [
                "# Resuma los atrasos de salida y llegada encontrando la media\n",
                "df_delays <- df_flights %>%\n",
                "  summarise(across(....))\n",
                "\n",
                "df_delays\n"
            ]
        },
        {
            "cell_type": "markdown",
            "metadata": {},
            "source": [
                "Verifique su respuesta:\n"
            ]
        },
        {
            "cell_type": "code",
            "execution_count": null,
            "metadata": {
                "vscode": {
                    "languageId": "r"
                }
            },
            "outputs": [],
            "source": [
                ". <- ottr::check(\"tests/Question 8.R\")\n"
            ]
        },
        {
            "cell_type": "markdown",
            "metadata": {},
            "source": [
                "### **¿Cómo se comparan los transportistas en términos de rendimiento de atrasos en el arribo?**\n",
                "\n",
                "Un diagrama de caja puede ser una buena manera de representar gráficamente la distribución de grupos de datos numéricos a través de sus cuantiles. El `geom` que se ocupa de los diagramas de caja es `geom_boxplot`\n"
            ]
        },
        {
            "cell_type": "code",
            "execution_count": null,
            "metadata": {
                "vscode": {
                    "languageId": "r"
                }
            },
            "outputs": [],
            "source": [
                "# Compara el retraso de llegada entre diferentes operadores\n",
                "df_flights %>%\n",
                "  ggplot() +\n",
                "  geom_boxplot(mapping = aes(x = Carrier, y = ArrDelay))\n"
            ]
        },
        {
            "cell_type": "markdown",
            "metadata": {},
            "source": [
                "### **¿Cómo se comparan los transportistas en términos de rendimiento de atrasos en el arribo?**\n",
                "\n",
                "Hagamos lo mismo con el rendimiento del retraso de arribo.\n",
                "\n",
                "También podemos probar y reorganizar los niveles de 'Carrier' en orden ascendente del tiempo de atraso y también añadir algo de color en las tramas.\n"
            ]
        },
        {
            "cell_type": "code",
            "execution_count": null,
            "metadata": {
                "vscode": {
                    "languageId": "r"
                }
            },
            "outputs": [],
            "source": [
                "df_flights %>%\n",
                "  mutate(Carrier = fct_reorder(Carrier, DepDelay)) %>%\n",
                "  ggplot() +\n",
                "  geom_boxplot(mapping = aes(x = Carrier, y = DepDelay, color = Carrier),\n",
                "  show.legend = FALSE)\n"
            ]
        },
        {
            "cell_type": "markdown",
            "metadata": {},
            "source": [
                "Alternativamente, para crear los gráficos anteriores, podemos usar `purr::map()` que nos permite aplicar una función a cada columna. Ver `?map` para más detalles."
            ]
        },
        {
            "cell_type": "code",
            "execution_count": null,
            "metadata": {
                "vscode": {
                    "languageId": "r"
                }
            },
            "outputs": [],
            "source": [
                "map(df_flights %>% select(ArrDelay, DepDelay), ~ ggplot(df_flights) +\n",
                "  geom_boxplot(mapping = aes(x = Carrier, y = .x)) + ylab(\"\"))\n"
            ]
        },
        {
            "cell_type": "markdown",
            "metadata": {},
            "source": [
                "### **¿Algunos días de la semana son más propensos a sufrir atrasos en la llegada que otros?**\n",
                "\n",
                "Nuevamente, utilicemos un diagrama de caja para inspeccionar visualmente la distribución de los atrasos en las llegadas según el día de la semana. Para lograr esto con éxito, primero tenemos que codificar los días de la semana en variables \"categóricas\", es decir, \"factores\".\n"
            ]
        },
        {
            "cell_type": "code",
            "execution_count": null,
            "metadata": {
                "vscode": {
                    "languageId": "r"
                }
            },
            "outputs": [],
            "source": [
                "# Codifique el día de la semana como categórico y haga diagramas de caja\n",
                "df_flights %>%\n",
                "  mutate(DayOfWeek = factor(DayOfWeek)) %>%\n",
                "  ggplot() +\n",
                "  geom_boxplot(mapping = aes(x = DayOfWeek, y = ArrDelay),\n",
                "  show.legend = FALSE)\n"
            ]
        },
        {
            "cell_type": "markdown",
            "metadata": {},
            "source": [
                "### **¿Algunos días de la semana son más propensos a sufrir atrasos en la partida que otros?**\n",
                "\n",
                "Ahora es su turno.\n",
                "\n",
                "**Pregunta 9.** Investiguemos si algunos días de la semana (eje x) son más propensos a atrasos en las partidas (eje y) que otros. Comience codificando el día de la semana como una variable categórica.\n",
                "\n",
                "Rellene el marcador `....` con el código correcto."
            ]
        },
        {
            "cell_type": "code",
            "execution_count": null,
            "metadata": {
                "vscode": {
                    "languageId": "r"
                }
            },
            "outputs": [],
            "source": [
                "# Codifique el día de la semana como una variable categórica\n",
                "df_flights <- df_flights %>%\n",
                "  mutate(....)\n",
                "\n",
                "# Haz un diagrama de caja de DayOfWeek y DepDelay\n",
                "dep_delay_plot <- df_flights %>%\n",
                "  ggplot() +\n",
                "  geom_boxplot(mapping = aes(x = ...., y = ...., color = DayOfWeek),\n",
                "  show.legend = FALSE) +\n",
                "  scale_color_brewer(palette = \"Dark2\")\n",
                "\n",
                "dep_delay_plot\n"
            ]
        },
        {
            "cell_type": "markdown",
            "metadata": {},
            "source": [
                "¿Qué puedes hacer con esto?\n",
                "Verifique su respuesta:\n"
            ]
        },
        {
            "cell_type": "code",
            "execution_count": null,
            "metadata": {
                "vscode": {
                    "languageId": "r"
                }
            },
            "outputs": [],
            "source": [
                ". <- ottr::check(\"tests/Question 9.R\")\n"
            ]
        },
        {
            "cell_type": "markdown",
            "metadata": {},
            "source": [
                "¡Qué gran progreso está teniendo!\n",
                "\n",
                "### **¿Qué aeropuerto de salida tiene el retraso promedio de partida más alto?**\n",
                "\n",
                "Para responder esto, primero tenemos que **agrupar** los datos **por** `OriginAirportName`, luego **resumir** las observaciones por el **promedio** de su demora de salida `DepDelay` y finalmente **organizar** los retrasos promedios de salida en forma **descendente**.\n",
                "\n",
                "Escribamos esto en código.\n"
            ]
        },
        {
            "cell_type": "code",
            "execution_count": null,
            "metadata": {
                "vscode": {
                    "languageId": "r"
                }
            },
            "outputs": [],
            "source": [
                "# Utilice group_by %>% summarize para encontrar \n",
                "# los aeropuertos con el promedio más alto de DepDelay\n",
                "mean_departure_delays <- df_flights %>%\n",
                "  group_by(OriginAirportName) %>%\n",
                "  summarize(mean_dep_delay_time = mean(DepDelay)) %>%\n",
                "  arrange(desc(mean_dep_delay_time))\n",
                "\n",
                "# Imprima las primeras 7 filas\n",
                "mean_departure_delays %>%\n",
                "  slice_head(n = 7)\n"
            ]
        },
        {
            "cell_type": "markdown",
            "metadata": {},
            "source": [
                "¡Fantástico!\n",
                "\n",
                "Representemos esto usando diagramas de barras.\n"
            ]
        },
        {
            "cell_type": "code",
            "execution_count": null,
            "metadata": {
                "vscode": {
                    "languageId": "r"
                }
            },
            "outputs": [],
            "source": [
                "mean_departure_delays %>%\n",
                "  # Ordene los niveles de los factores en orden descendente de tiempo de atraso\n",
                "  mutate(OriginAirportName = fct_reorder(OriginAirportName,\n",
                " desc(mean_dep_delay_time))) %>%\n",
                "  ggplot() +\n",
                "  geom_col(mapping = aes(x = OriginAirportName, y = mean_dep_delay_time),\n",
                " fill = \"midnightblue\", alpha = 0.7) +\n",
                "  theme(\n",
                "    # Gire los marcadores X para que podamos leerlos.\n",
                "    axis.text.x = element_text(angle = 90)\n",
                "  )\n"
            ]
        },
        {
            "cell_type": "markdown",
            "metadata": {},
            "source": [
                "¿Podría intentar adivinar por qué el aeropuerto de Chicago tiene la mayor cantidad de atrasos en la partida o por qué Long Beach tiene la menor cantidad?\n",
                "\n",
                "### **¿Las salidas atrasadas tienden a provocar retrasos de arribo más prolongados que las salidas puntuales?**\n",
                "\n",
                "**Pregunta 10.** Comenzando con los datos `df_flights`, primero codifique la columna `DepDel15` (valor binario que indica la salida atrasada por más de 15 minutos) como categórica.\n",
                "\n",
                "Utilice un **diagrama de caja** para investigar si las salidas atrasadas (eje x) tienden a provocar retrasos de llegada más prolongados (eje y) que las salidas a tiempo. Asigne la estética de relleno a la variable `DepDel15`.\n",
                "\n",
                "> Puede colorear un diagrama de caja usando la estética `color` (como en los ejercicios anteriores) o, más útil, con la estética `relleno`.\n",
                "\n",
                "Rellene el marcador `....` con el código correcto."
            ]
        },
        {
            "cell_type": "code",
            "execution_count": null,
            "metadata": {
                "vscode": {
                    "languageId": "r"
                }
            },
            "outputs": [],
            "source": [
                "# Encode DepDel15 as a categorical variable\n",
                "df_flights <- df_flights %>%\n",
                "  mutate(DepDel15 = factor(DepDel15))\n",
                "\n",
                "arr_delay_plot <- df_flights %>%\n",
                "  ggplot() +\n",
                "  geom_boxplot(mapping <- aes(x = ...., y = ...., fill = ....))\n",
                "\n",
                "arr_delay_plot\n"
            ]
        },
        {
            "cell_type": "markdown",
            "metadata": {},
            "source": [
                "¿Esto le sorprende?\n",
                "Verifique su respuesta:\n",
                "\n"
            ]
        },
        {
            "cell_type": "code",
            "execution_count": null,
            "metadata": {
                "vscode": {
                    "languageId": "r"
                }
            },
            "outputs": [],
            "source": [
                ". <- ottr::check(\"tests/Question 10.R\")\n"
            ]
        },
        {
            "cell_type": "markdown",
            "metadata": {},
            "source": [
                "### **¿Qué ruta (del aeropuerto de origen al aeropuerto de destino) tiene más llegadas atrasadas?**\n",
                "\n",
                "Finalmente, investiguemos las rutas de viaje. Comenzaremos agregando una columna `Ruta` que indica los aeropuertos de origen y destino.\n"
            ]
        },
        {
            "cell_type": "code",
            "execution_count": null,
            "metadata": {
                "vscode": {
                    "languageId": "r"
                }
            },
            "outputs": [],
            "source": [
                "# Add a \"Route\" column\n",
                "df_flights <- df_flights %>%\n",
                "  mutate(Route = paste(OriginAirportName, DestAirportName, sep = \">\"))\n"
            ]
        },
        {
            "cell_type": "markdown",
            "metadata": {},
            "source": [
                "¡Excelente! Ahora podemos usar `group_by()`, `summarize()` y `arrange()` para encontrar las rutas con las llegadas más atrasadas.\n"
            ]
        },
        {
            "cell_type": "code",
            "execution_count": null,
            "metadata": {
                "vscode": {
                    "languageId": "r"
                }
            },
            "outputs": [],
            "source": [
                "# Haz resúmenes agrupados para encontrar el atraso total\n",
                "# asociado con una ruta en particular\n",
                "df_flights %>%\n",
                "  group_by(Route) %>%\n",
                "  summarize(ArrDel15 = sum(ArrDel15)) %>%\n",
                "  arrange(desc(ArrDel15))\n"
            ]
        },
        {
            "cell_type": "markdown",
            "metadata": {},
            "source": [
                "### **¿Qué ruta tiene el promedio de atraso de arribo más alto?**\n",
                "\n",
                "¡Tu turno!\n",
                "\n",
                "**Pregunta 11.** Comenzando con los datos de `df_flights`, agrupe las observaciones por `Route` y luego cree un resumen tibble con un nombre de columna `ArrDelay` que represente el tiempo medio de atraso de llegada. Ordene esto en forma descendente.\n",
                "\n",
                "Asigne sus resultados a una variable llamada `df_route_arrdelay`.\n",
                "\n",
                "Rellene el marcador `....` con el código correcto."
            ]
        },
        {
            "cell_type": "code",
            "execution_count": null,
            "metadata": {
                "vscode": {
                    "languageId": "r"
                }
            },
            "outputs": [],
            "source": [
                "# Cree resúmenes agrupados del tiempo de atraso de arribo\n",
                "df_route_arrdelay <- df_flights %>%\n",
                "  .... %>%\n",
                "  summarise(ArrDelay = ....) %>%\n",
                "  ....(desc(....))\n",
                "\n",
                "\n",
                "# Imprima las primeras 5 columnas\n",
                "df_route_arrdelay %>%\n",
                "  slice_head(n = 5)\n"
            ]
        },
        {
            "cell_type": "markdown",
            "metadata": {},
            "source": [
                "Verifique su respuesta:\n"
            ]
        },
        {
            "cell_type": "code",
            "execution_count": null,
            "metadata": {
                "vscode": {
                    "languageId": "r"
                }
            },
            "outputs": [],
            "source": [
                ". <- ottr::check(\"tests/Question 11.R\")\n"
            ]
        },
        {
            "cell_type": "markdown",
            "metadata": {},
            "source": [
                "¡Felicitaciones por terminar el primer desafío! Vamos a dejarlo hasta aquí por ahora. Por supuesto, hay otras formas de abordar este desafío. Así que siéntase libre de experimentar, buscar en el navegador y compartir sus soluciones con sus amistades.\n",
                "\n",
                "¡Nos vemos en el próximo módulo donde comenzaremos con Machine Learning!\n",
                "\n",
                "Feliz aprendizaje,\n",
                "\n",
                "[Eric,](https://twitter.com/ericntay) Gold Microsoft Learn Student Ambassador.\n"
            ]
        }
    ],
    "metadata": {
        "anaconda-cloud": "",
        "kernelspec": {
            "display_name": "R",
            "langauge": "R",
            "language": "R",
            "name": "ir"
        },
        "language_info": {
            "codemirror_mode": "r",
            "file_extension": ".r",
            "mimetype": "text/x-r-source",
            "name": "R",
            "pygments_lexer": "r",
            "version": "4.1.2"
        }
    },
    "nbformat": 4,
    "nbformat_minor": 1
}
